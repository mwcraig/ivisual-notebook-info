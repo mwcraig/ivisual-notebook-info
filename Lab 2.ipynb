{
 "metadata": {
  "name": "",
  "signature": "sha256:ccfae17186fe18a34777298705516b7e1eaa84e8fdc4f4546b3ae9021396d088"
 },
 "nbformat": 3,
 "nbformat_minor": 0,
 "worksheets": [
  {
   "cells": [
    {
     "cell_type": "heading",
     "level": 1,
     "metadata": {},
     "source": [
      "Lab 2: Introduction to simulations"
     ]
    },
    {
     "cell_type": "markdown",
     "metadata": {},
     "source": [
      "## Goals this week\n",
      "\n",
      "By the end of this lab you should be able to:\n",
      "\n",
      "1. Rename the notebook and edit the text in a notebook.\n",
      "2. Run your first simulation of a physical object using ivisual."
     ]
    },
    {
     "cell_type": "heading",
     "level": 2,
     "metadata": {},
     "source": [
      "Rename the notebook, and an editing reminder"
     ]
    },
    {
     "cell_type": "markdown",
     "metadata": {},
     "source": [
      "Rename this notebook so that it includes your name. Quick refresher (last one on this topic!): Click the name of the lab at the top to rename it.\n",
      "\n",
      "How to edit text or computer code: double click on it to edit, push Shift-Enter when you are done."
     ]
    },
    {
     "cell_type": "heading",
     "level": 2,
     "metadata": {},
     "source": [
      "Your first simulation"
     ]
    },
    {
     "cell_type": "markdown",
     "metadata": {},
     "source": [
      "Your simulations in this class are a tool to model the physical world. You will do that using a package called \"ivisual\".\n",
      "\n",
      "The code in the cell below will create an animation of a box. Until you make modifications later in this lab it will be a pretty *boring* animation...nothing will move!\n",
      "\n",
      "However, you can interact with the animation:\n",
      "\n",
      "+ Right-click and drag to rotate around the square\n",
      "+ Scroll to zoom in and out\n",
      "\n",
      "Execute the code cell below and trying rotation and zooming."
     ]
    },
    {
     "cell_type": "code",
     "collapsed": false,
     "input": [
      "from ivisual import *"
     ],
     "language": "python",
     "metadata": {},
     "outputs": []
    },
    {
     "cell_type": "code",
     "collapsed": false,
     "input": [
      "scene = canvas()\n",
      "scene.autoscale = False\n",
      "\n",
      "initial_box_pos = vector(0, 0, 0) # meters\n",
      "my_box = box(size=(1, 2, 3))\n",
      "my_box.pos = initial_box_pos\n",
      "\n",
      "finished = False\n",
      "\n",
      "velocity = vector(0, 0, 0)  # m/s\n",
      "dt = 0.1  # sec\n",
      "\n",
      "steps = 0\n",
      "\n",
      "while not finished:\n",
      "    rate(30)  # no more than 50 frames per second\n",
      "    \n",
      "    my_box.pos = my_box.pos + velocity * dt\n",
      "    \n",
      "    steps = steps + 1\n",
      "\n",
      "    if my_box.pos.x > 10 or steps > 100:\n",
      "        finished = True"
     ],
     "language": "python",
     "metadata": {},
     "outputs": []
    },
    {
     "cell_type": "heading",
     "level": 2,
     "metadata": {},
     "source": [
      "For you to do"
     ]
    },
    {
     "cell_type": "markdown",
     "metadata": {},
     "source": [
      "+ Modify the code cell above so that the box moves to the right at a velocity of 0.25 m/s (remember to re-run the code after modifying it).\n",
      "+ Answer all of the questions below; put your answers in the notebook itself (remember, double-click to edit the text)."
     ]
    },
    {
     "cell_type": "markdown",
     "metadata": {},
     "source": [
      "1. Explain how you figured out whether direction (x, y or z) corresponded to \"right\" on the screen.\n",
      "2. How far, in meters, did the box move during the time the simulation ran? **Explain** your reasoning."
     ]
    }
   ],
   "metadata": {}
  }
 ]
}