{
 "metadata": {
  "name": "",
  "signature": "sha256:14bda787ce79ecb18dd34071e8687bd461b9365e73949280382241428e241d3d"
 },
 "nbformat": 3,
 "nbformat_minor": 0,
 "worksheets": [
  {
   "cells": [
    {
     "cell_type": "heading",
     "level": 1,
     "metadata": {},
     "source": [
      "Lab 1: Welcome to Physics 999"
     ]
    },
    {
     "cell_type": "markdown",
     "metadata": {},
     "source": [
      "This course will including programming in a language called python. No prior experience with python is necessary.\n",
      "\n",
      "All of the work you do in python will be in an electronic notebook like this one. It can contain both regular text and computer code.\n",
      "\n",
      "Each week you will turn in a notebook like this containing your computer code and your *discussion* of the code."
     ]
    },
    {
     "cell_type": "markdown",
     "metadata": {},
     "source": [
      "## Goals this week:\n",
      "\n",
      "By the end of this notebook you should be able to:\n",
      "\n",
      "+ Rename an ipython notbook.\n",
      "+ Edit the text in a cell of an ipython notebook and \"render\" the cell.\n",
      "+ Edit and run computer code in an ipython notebook.\n",
      "+ Know what to do in an ipython notebook \"emergency\".\n"
     ]
    },
    {
     "cell_type": "heading",
     "level": 2,
     "metadata": {},
     "source": [
      "Rename this notebook"
     ]
    },
    {
     "cell_type": "markdown",
     "metadata": {},
     "source": [
      "At the top of this notebook it says \"IP[y] Notebook\"; next to that is the name of the notebook, \"Lab 1\". Click on \"Lab 1\" and rename the notebook. The new name should include the words \"Lab 1\" and your name (assuming you want credit for the lab)."
     ]
    },
    {
     "cell_type": "heading",
     "level": 2,
     "metadata": {},
     "source": [
      "Edit the text in a cell"
     ]
    },
    {
     "cell_type": "markdown",
     "metadata": {},
     "source": [
      "You can edit the text in any section of a notebook by:\n",
      "\n",
      "1. double-clicking on it to start editing\n",
      "2. Pushing Shift-Enter when you are done editing (\"Shift-Enter\" means to push the `Enter` key while holding down `Shift`) "
     ]
    },
    {
     "cell_type": "markdown",
     "metadata": {},
     "source": [
      "**You edit this cell**... double click on it, edit, then Shift-Enter when you are done editing.\n",
      "\n",
      "(You may have noticed you can do basic formatting like making text bold...feel free to ignore that for now)."
     ]
    },
    {
     "cell_type": "heading",
     "level": 2,
     "metadata": {},
     "source": [
      "Edit and run computer code"
     ]
    },
    {
     "cell_type": "heading",
     "level": 3,
     "metadata": {},
     "source": [
      "How to run code"
     ]
    },
    {
     "cell_type": "markdown",
     "metadata": {},
     "source": [
      "Computer code in an ipython notebook looks different thatn normal text. It is in a gray block with special prompts, like `In[ ]`.\n",
      "\n",
      "You run a code cell the same way you make a text cell look nice: Push Shift-Enter.\n",
      "\n",
      "Click on the cell below and push Shift-Enter."
     ]
    },
    {
     "cell_type": "code",
     "collapsed": false,
     "input": [
      "print \"Hello stranger!\""
     ],
     "language": "python",
     "metadata": {},
     "outputs": []
    },
    {
     "cell_type": "heading",
     "level": 3,
     "metadata": {},
     "source": [
      "How to edit and run code"
     ]
    },
    {
     "cell_type": "markdown",
     "metadata": {},
     "source": [
      "Editing code is just like editing text:\n",
      "\n",
      "1. Double click on a code cell to edit it.\n",
      "2. Push Shift-Enter when you are done. This runs code in the cell.\n",
      "\n",
      "**Edit the code in the cell above** so that it prints `Hello physicist!` when you run it (or put you name in in place of `stranger`)."
     ]
    },
    {
     "cell_type": "heading",
     "level": 1,
     "metadata": {},
     "source": [
      "What to do in an emergency"
     ]
    },
    {
     "cell_type": "heading",
     "level": 2,
     "metadata": {},
     "source": [
      "What *is* an emergency in a notebook?"
     ]
    },
    {
     "cell_type": "markdown",
     "metadata": {},
     "source": [
      "There are no real emergencies in a notebook, of course...but there will be times when things don't work as exepcted. \n",
      "\n",
      "Sometimes that happens because there is an error in your code. Sometimes it happens because notebook cells are run out of order. Sometimes there is a problem behind the scenes with how python is operating.\n",
      "\n",
      "To see an example of what an error message looks like in a notebook, execute the code cell below; no need to fix the error, the point is simply to see what one looks like."
     ]
    },
    {
     "cell_type": "code",
     "collapsed": false,
     "input": [
      "print \"Goodbye for now"
     ],
     "language": "python",
     "metadata": {},
     "outputs": []
    },
    {
     "cell_type": "markdown",
     "metadata": {},
     "source": [
      "Errors like this are almost always mistakes in the code in the cell you are running, but can sometimes occur for more compicated reasons."
     ]
    },
    {
     "cell_type": "heading",
     "level": 2,
     "metadata": {},
     "source": [
      "What do I do if there is an error?"
     ]
    },
    {
     "cell_type": "markdown",
     "metadata": {},
     "source": [
      "Three things:\n",
      "\n",
      "1. Try fixing the code in the cell and re-running. If that doesn't working, then...\n",
      "2. ...try restarting the ipython \"kernel\": Go to the \"Kernel\" menu above, select \"Restart\" and click \"Restaaret\" on the dialogue box that comes up. Then re-run all of the cells from the top of the notebook, down. If that doesn't work, then...\n",
      "3. Shutdown the notebook entirely and restart.\n",
      "\n",
      "At times like this it is helpful to remind yourself of something I read once in a programming book:\n",
      "\n",
      "> While learning something new, many students will think, \u201cDamn, this is hard for me. I wonder if I am stupid...\u201d Before going any farther, assure yourself that you are not stupid and that some things are hard. Armed with this silly affirmation and a well-rested mind, you are ready to [learn anything].\n",
      "\n",
      "> Aaron Hillegass, Cocoa Programming for Mac OSX, 3rd Ed."
     ]
    }
   ],
   "metadata": {}
  }
 ]
}